{
  "cells": [
    {
      "cell_type": "markdown",
      "metadata": {
        "id": "Hs3-rqQLaMOs"
      },
      "source": [
        "**Grand Assignment**"
      ]
    },
    {
      "cell_type": "markdown",
      "metadata": {
        "id": "yoFPv_Hcb3Iv"
      },
      "source": [
        "***Variables and Strings***"
      ]
    },
    {
      "cell_type": "markdown",
      "metadata": {
        "id": "XLAWmJh_b9vr"
      },
      "source": [
        "*1.**Simple Message:** Assign a message to a variable, and then print that\n",
        "message.* "
      ]
    },
    {
      "cell_type": "code",
      "execution_count": 1,
      "metadata": {
        "id": "Xu9FoVk1aKtu"
      },
      "outputs": [
        {
          "name": "stdout",
          "output_type": "stream",
          "text": [
            "Hello World!\n"
          ]
        }
      ],
      "source": [
        "myMessage = \"Hello World!\"\n",
        "print(myMessage)"
      ]
    },
    {
      "cell_type": "markdown",
      "metadata": {
        "id": "Ckp41qGzcMhY"
      },
      "source": [
        "2.Find a quote from a famous person you admire. Print the\n",
        "quote and the name of its author. Your output should look something like the\n",
        "following, including the quotation marks:\n",
        "\n",
        "**Albert Einstein once said, “A person who never made a\n",
        "mistake never tried anything new.”**\n"
      ]
    },
    {
      "cell_type": "code",
      "execution_count": 2,
      "metadata": {
        "id": "RAOYKTZDc9l5"
      },
      "outputs": [
        {
          "name": "stdout",
          "output_type": "stream",
          "text": [
            "Albert Einstein once said, \"A person who never made a mistake never tried anything new.\"\n"
          ]
        }
      ],
      "source": [
        "author = \"Albert Einstein\"\n",
        "quote = '\"A person who never made a mistake never tried anything new.\"'\n",
        "\n",
        "print(author + ' once said, ' + quote)"
      ]
    },
    {
      "cell_type": "markdown",
      "metadata": {
        "id": "5dsWBIrAduRU"
      },
      "source": [
        "*3. Use a variable to represent your favorite number. Then,\n",
        "using that variable, create a message that reveals your favorite number. Print\n",
        "that message*"
      ]
    },
    {
      "cell_type": "code",
      "execution_count": 4,
      "metadata": {
        "id": "n5bKUt2Xdxet"
      },
      "outputs": [
        {
          "name": "stdout",
          "output_type": "stream",
          "text": [
            "My favourite number is: 5\n"
          ]
        }
      ],
      "source": [
        "favNum = 5\n",
        "print(\"My favourite number is:\", favNum)"
      ]
    },
    {
      "cell_type": "markdown",
      "metadata": {
        "id": "03-7JmJFh1gu"
      },
      "source": [
        "4. **Calculate Area of a Circle::**\n",
        "\n",
        "Write a Python program which accepts the radius of a circle from the user and compute the area.\n",
        "\n",
        "Program Console Sample Output 1:\n",
        "\n",
        "Input Radius: 0.5\n",
        "\n",
        "Area of Circle with radius 0.5 is 0.7853981634"
      ]
    },
    {
      "cell_type": "code",
      "execution_count": 5,
      "metadata": {
        "id": "ZQqUhli7iD8V"
      },
      "outputs": [
        {
          "name": "stdout",
          "output_type": "stream",
          "text": [
            "Area of the circle: 0.7853981633974483\n"
          ]
        }
      ],
      "source": [
        "from math import pi\n",
        "\n",
        "inputRad = float(input(\"Input Radius: \"))\n",
        "area = pi * (inputRad ** 2)\n",
        "print(\"Area of the circle:\", area)"
      ]
    },
    {
      "cell_type": "markdown",
      "metadata": {
        "id": "_52LUHoriEdK"
      },
      "source": [
        "5. **Check Number either positive, negative or zero::**\n",
        "\n",
        "Write a Python program to check if a number is positive, \n",
        "\n",
        "negative or zero\n",
        "\n",
        "Program Console Sample Output 1:\n",
        "\n",
        "Enter Number: -1\n",
        "\n",
        "Negative Number Entered\n",
        "\n",
        "Program Console Sample Output 2:\n",
        "\n",
        "Integer: 3\n",
        "\n",
        "Positive Number Entered\n",
        "\n",
        "Program Console Sample Output 3:\n",
        "\n",
        "Integer: 0\n",
        "\n",
        "Zero Entered"
      ]
    },
    {
      "cell_type": "code",
      "execution_count": 3,
      "metadata": {
        "id": "_yLJAc80iXk0"
      },
      "outputs": [
        {
          "name": "stdout",
          "output_type": "stream",
          "text": [
            "Zero Entered\n"
          ]
        }
      ],
      "source": [
        "inputNum = int(input(\"Enter a number: \"))\n",
        "\n",
        "if inputNum > 0:\n",
        "    print(\"Positive Number\")\n",
        "elif inputNum < 0:\n",
        "    print(\"Negative Number\")\n",
        "else:\n",
        "    print(\"Zero Entered\")\n",
        "    "
      ]
    },
    {
      "cell_type": "markdown",
      "metadata": {
        "id": "vjXA6uhpiYQX"
      },
      "source": [
        "6. **Vowel Tester**\n",
        "Write a Python program to test whether a passed letter is a vowel or not\n",
        "\n",
        "Program Console Output 1:\n",
        "\n",
        "Enter a character: A\n",
        "\n",
        "Letter A is Vowel\n",
        "\n",
        "Program Console Output 2:\n",
        "\n",
        "Enter a character: e\n",
        "\n",
        "Letter e is Vowel\n",
        "\n",
        "Program Console Output 2:\n",
        "\n",
        "Enter a character: N\n",
        "\n",
        "Letter N is not Vowel."
      ]
    },
    {
      "cell_type": "code",
      "execution_count": 6,
      "metadata": {
        "id": "L62zqtG1jEb9"
      },
      "outputs": [
        {
          "name": "stdout",
          "output_type": "stream",
          "text": [
            "Letter H is not a vowel.\n"
          ]
        }
      ],
      "source": [
        "userInput = input(\"Enter an English letter: \")\n",
        "\n",
        "if userInput.casefold() in \"aeiou\":\n",
        "    print(f\"Letter {userInput} is a vowel.\")\n",
        "else:\n",
        "    print(f\"Letter {userInput} is not a vowel.\")"
      ]
    },
    {
      "cell_type": "markdown",
      "metadata": {
        "id": "qZIGjsnDjFdk"
      },
      "source": [
        "7. **BMI Calculator**\n",
        "\n",
        "Write a Python program to calculate body mass index\n",
        "Program Console Sample 1:\n",
        "\n",
        "Enter Height in Cm: 180\n",
        "\n",
        "Enter Weight in Kg: 75\n",
        "\n",
        "Your BMI is 23.15"
      ]
    },
    {
      "cell_type": "code",
      "execution_count": 12,
      "metadata": {
        "id": "lE-JyyTnjcJU"
      },
      "outputs": [
        {
          "name": "stdout",
          "output_type": "stream",
          "text": [
            "Your bmi is: 44.0\n"
          ]
        }
      ],
      "source": [
        "height = float(input(\"Enter your height in cm: \"))\n",
        "weight = float(input(\"Enter your weight in kg: \"))\n",
        "\n",
        "bmi = weight / (height / 100) ** 2\n",
        "print(\"Your bmi is:\", bmi)"
      ]
    },
    {
      "cell_type": "markdown",
      "metadata": {
        "id": "11fYzZYid3qq"
      },
      "source": [
        "**List::**"
      ]
    },
    {
      "cell_type": "markdown",
      "metadata": {
        "id": "oUNnrKdyeOks"
      },
      "source": [
        "8. **Store the names of a few of your friends in a list called names**\n",
        "\n",
        " Print each person’s name by accessing each element in the list, one at a time."
      ]
    },
    {
      "cell_type": "code",
      "execution_count": 8,
      "metadata": {
        "id": "RY49qmHQeOGB"
      },
      "outputs": [
        {
          "name": "stdout",
          "output_type": "stream",
          "text": [
            "Khan\n",
            "Shamroz\n",
            "Razi\n",
            "Sijal\n"
          ]
        }
      ],
      "source": [
        "names = [\"Khan\", \"Shamroz\", \"Razi\", \"Sijal\"]\n",
        "for name in names:\n",
        "    print(name)"
      ]
    },
    {
      "cell_type": "markdown",
      "metadata": {
        "id": "HQe4CmBLd0a0"
      },
      "source": [
        "9. Start with the list you used in Question 4, but instead of just  printing each person’s name, print a message to them. The text of each message should be the same, but each message should be personalized with the\n",
        "person’s name."
      ]
    },
    {
      "cell_type": "code",
      "execution_count": 9,
      "metadata": {
        "id": "QfaA6SZieroG"
      },
      "outputs": [
        {
          "name": "stdout",
          "output_type": "stream",
          "text": [
            "Hello Khan! how are you?\n",
            "Hello Shamroz! how are you?\n",
            "Hello Razi! how are you?\n",
            "Hello Sijal! how are you?\n"
          ]
        }
      ],
      "source": [
        "for name in names:\n",
        "    print(f\"Hello {name}! how are you?\")"
      ]
    },
    {
      "cell_type": "markdown",
      "metadata": {
        "id": "3t-zoTSTesyI"
      },
      "source": [
        " 10.**Make a python program that conatains your nine favourite dishes in a list called foods.**\n",
        "Print the message, The first three items in the list are:\n",
        "\n",
        "Then use a slice to print the first three items from that program’s list.\n",
        "\n",
        "Print the message, Three items from the middle of the list are:\n",
        "\n",
        "Use a slice to print three items from the middle of the list.\n",
        "\n",
        "Print the message, The last three items in the list are:\n",
        "\n",
        "Use a slice to print the last three items in the list."
      ]
    },
    {
      "cell_type": "code",
      "execution_count": 10,
      "metadata": {
        "id": "ZpnPQbgAmQhu"
      },
      "outputs": [
        {
          "name": "stdout",
          "output_type": "stream",
          "text": [
            "The first three items in the list are: ['Alfredo Pasta', 'Fries', 'Burger']\n",
            "Three items in the middle of the list are: ['Spagetti', 'Chicken Steak', 'Sandwiches']\n",
            "The last three items are: ['Beef Steak', 'Noodles', 'Cheese Rolls']\n"
          ]
        }
      ],
      "source": [
        "foods = [\"Alfredo Pasta\",\"Fries\",\"Burger\",\"Spagetti\",\"Chicken Steak\",\"Sandwiches\",\"Beef Steak\",\"Noodles\",\"Cheese Rolls\"]\n",
        "print(\"The first three items in the list are:\", foods[:3])\n",
        "print(\"Three items in the middle of the list are:\", foods[3:6])\n",
        "print(\"The last three items are:\", foods[-3:])\n"
      ]
    },
    {
      "cell_type": "markdown",
      "metadata": {
        "id": "h37WaaZKmRMe"
      },
      "source": [
        "11. **Start with your program from your last Question8.**\n",
        "Make a copy of the list of foods, and call it friend_foods.\n",
        "Then, do the following:\n",
        "\n",
        "Add a new dish to the original list.\n",
        "\n",
        "Add a different dish to the list friend_foods.\n",
        "\n",
        "Prove that you have two separate lists.\n",
        "\n",
        "Print the message, My favorite pizzas are: and then use a for loop to print the first list.\n",
        "\n",
        "Print the message,\n",
        "\n",
        "My friend’s favorite foods are:, and then use a for loop to print the second list.\n",
        "\n",
        "NOTE: Make sure each new dish is stored in the appropriate list."
      ]
    },
    {
      "cell_type": "code",
      "execution_count": 11,
      "metadata": {
        "id": "6FvxV2CioBQB"
      },
      "outputs": [
        {
          "name": "stdout",
          "output_type": "stream",
          "text": [
            "['Alfredo Pasta', 'Fries', 'Burger', 'Spagetti', 'Chicken Steak', 'Sandwiches', 'Beef Steak', 'Noodles', 'Cheese Rolls', 'Biryani']\n",
            "['Alfredo Pasta', 'Fries', 'Burger', 'Spagetti', 'Chicken Steak', 'Sandwiches', 'Beef Steak', 'Noodles', 'Cheese Rolls', 'Not biryani']\n",
            "\n",
            "My Favourite foods are: \n",
            "Alfredo Pasta\n",
            "Fries\n",
            "Burger\n",
            "Spagetti\n",
            "Chicken Steak\n",
            "Sandwiches\n",
            "Beef Steak\n",
            "Noodles\n",
            "Cheese Rolls\n",
            "Biryani\n",
            "\n",
            "My Friend's Favourite foods are: \n",
            "Alfredo Pasta\n",
            "Fries\n",
            "Burger\n",
            "Spagetti\n",
            "Chicken Steak\n",
            "Sandwiches\n",
            "Beef Steak\n",
            "Noodles\n",
            "Cheese Rolls\n",
            "Not biryani\n"
          ]
        }
      ],
      "source": [
        "friendFoods = foods.copy()\n",
        "foods.append(\"Biryani\")\n",
        "friendFoods.append(\"Not biryani\")\n",
        "\n",
        "print(foods)\n",
        "print(friendFoods)\n",
        "\n",
        "print(\"\\nMy Favourite foods are: \")\n",
        "for food in foods:\n",
        "    print(food)\n",
        "    \n",
        "print(\"\\nMy Friend's Favourite foods are: \")\n",
        "for food in friendFoods:\n",
        "    print(food)"
      ]
    }
  ],
  "metadata": {
    "colab": {
      "collapsed_sections": [],
      "name": "Assignment.ipynb",
      "provenance": []
    },
    "kernelspec": {
      "display_name": "Python 3.10.4 64-bit",
      "language": "python",
      "name": "python3"
    },
    "language_info": {
      "codemirror_mode": {
        "name": "ipython",
        "version": 3
      },
      "file_extension": ".py",
      "mimetype": "text/x-python",
      "name": "python",
      "nbconvert_exporter": "python",
      "pygments_lexer": "ipython3",
      "version": "3.10.4"
    },
    "vscode": {
      "interpreter": {
        "hash": "369f2c481f4da34e4445cda3fffd2e751bd1c4d706f27375911949ba6bb62e1c"
      }
    }
  },
  "nbformat": 4,
  "nbformat_minor": 0
}
